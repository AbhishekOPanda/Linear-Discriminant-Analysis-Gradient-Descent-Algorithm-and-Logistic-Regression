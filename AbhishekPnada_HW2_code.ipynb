{
 "cells": [
  {
   "cell_type": "markdown",
   "id": "6184fa94",
   "metadata": {},
   "source": [
    "# Question 1"
   ]
  },
  {
   "cell_type": "code",
   "execution_count": 1,
   "id": "69134be0",
   "metadata": {},
   "outputs": [],
   "source": [
    "import numpy as np\n",
    "import pandas as pd\n",
    "import matplotlib.pyplot as plt\n",
    "\n",
    "from sklearn.model_selection import train_test_split\n",
    "from sklearn.preprocessing import StandardScaler\n",
    "from sklearn.discriminant_analysis import LinearDiscriminantAnalysis as LDA\n",
    "\n",
    "from sklearn.linear_model import LogisticRegression\n",
    "from sklearn.metrics import confusion_matrix, recall_score, precision_score, accuracy_score"
   ]
  },
  {
   "cell_type": "code",
   "execution_count": 2,
   "id": "364d465a",
   "metadata": {},
   "outputs": [],
   "source": [
    "feature_names = {i:label for i,label in zip(range(4),\n",
    "                  ('sepal length in cm',\n",
    "                  'sepal width in cm',\n",
    "                  'petal length in cm',\n",
    "                  'petal width in cm', ))}"
   ]
  },
  {
   "cell_type": "markdown",
   "id": "28cd6d1e",
   "metadata": {},
   "source": [
    "#### Reading data to pandas data frame and splitting them as unique class labels in one class"
   ]
  },
  {
   "cell_type": "code",
   "execution_count": 3,
   "id": "0575a789",
   "metadata": {},
   "outputs": [],
   "source": [
    "df = pd.read_csv('iris.data', header=None, sep=',')"
   ]
  },
  {
   "cell_type": "code",
   "execution_count": 4,
   "id": "35a88ea1",
   "metadata": {},
   "outputs": [
    {
     "data": {
      "text/html": [
       "<div>\n",
       "<style scoped>\n",
       "    .dataframe tbody tr th:only-of-type {\n",
       "        vertical-align: middle;\n",
       "    }\n",
       "\n",
       "    .dataframe tbody tr th {\n",
       "        vertical-align: top;\n",
       "    }\n",
       "\n",
       "    .dataframe thead th {\n",
       "        text-align: right;\n",
       "    }\n",
       "</style>\n",
       "<table border=\"1\" class=\"dataframe\">\n",
       "  <thead>\n",
       "    <tr style=\"text-align: right;\">\n",
       "      <th></th>\n",
       "      <th>sepal length in cm</th>\n",
       "      <th>sepal width in cm</th>\n",
       "      <th>petal length in cm</th>\n",
       "      <th>petal width in cm</th>\n",
       "    </tr>\n",
       "  </thead>\n",
       "  <tbody>\n",
       "    <tr>\n",
       "      <th>count</th>\n",
       "      <td>150.000000</td>\n",
       "      <td>150.000000</td>\n",
       "      <td>150.000000</td>\n",
       "      <td>150.000000</td>\n",
       "    </tr>\n",
       "    <tr>\n",
       "      <th>mean</th>\n",
       "      <td>5.843333</td>\n",
       "      <td>3.054000</td>\n",
       "      <td>3.758667</td>\n",
       "      <td>1.198667</td>\n",
       "    </tr>\n",
       "    <tr>\n",
       "      <th>std</th>\n",
       "      <td>0.828066</td>\n",
       "      <td>0.433594</td>\n",
       "      <td>1.764420</td>\n",
       "      <td>0.763161</td>\n",
       "    </tr>\n",
       "    <tr>\n",
       "      <th>min</th>\n",
       "      <td>4.300000</td>\n",
       "      <td>2.000000</td>\n",
       "      <td>1.000000</td>\n",
       "      <td>0.100000</td>\n",
       "    </tr>\n",
       "    <tr>\n",
       "      <th>25%</th>\n",
       "      <td>5.100000</td>\n",
       "      <td>2.800000</td>\n",
       "      <td>1.600000</td>\n",
       "      <td>0.300000</td>\n",
       "    </tr>\n",
       "    <tr>\n",
       "      <th>50%</th>\n",
       "      <td>5.800000</td>\n",
       "      <td>3.000000</td>\n",
       "      <td>4.350000</td>\n",
       "      <td>1.300000</td>\n",
       "    </tr>\n",
       "    <tr>\n",
       "      <th>75%</th>\n",
       "      <td>6.400000</td>\n",
       "      <td>3.300000</td>\n",
       "      <td>5.100000</td>\n",
       "      <td>1.800000</td>\n",
       "    </tr>\n",
       "    <tr>\n",
       "      <th>max</th>\n",
       "      <td>7.900000</td>\n",
       "      <td>4.400000</td>\n",
       "      <td>6.900000</td>\n",
       "      <td>2.500000</td>\n",
       "    </tr>\n",
       "  </tbody>\n",
       "</table>\n",
       "</div>"
      ],
      "text/plain": [
       "       sepal length in cm  sepal width in cm  petal length in cm  \\\n",
       "count          150.000000         150.000000          150.000000   \n",
       "mean             5.843333           3.054000            3.758667   \n",
       "std              0.828066           0.433594            1.764420   \n",
       "min              4.300000           2.000000            1.000000   \n",
       "25%              5.100000           2.800000            1.600000   \n",
       "50%              5.800000           3.000000            4.350000   \n",
       "75%              6.400000           3.300000            5.100000   \n",
       "max              7.900000           4.400000            6.900000   \n",
       "\n",
       "       petal width in cm  \n",
       "count         150.000000  \n",
       "mean            1.198667  \n",
       "std             0.763161  \n",
       "min             0.100000  \n",
       "25%             0.300000  \n",
       "50%             1.300000  \n",
       "75%             1.800000  \n",
       "max             2.500000  "
      ]
     },
     "execution_count": 4,
     "metadata": {},
     "output_type": "execute_result"
    }
   ],
   "source": [
    "df.columns = [l for i,l in sorted(feature_names.items())] + ['class label']\n",
    "df.dropna(axis=0,how=\"all\",inplace=True)\n",
    "df.describe()"
   ]
  },
  {
   "cell_type": "code",
   "execution_count": 5,
   "id": "83900119",
   "metadata": {},
   "outputs": [],
   "source": [
    "X= df.iloc[:,0:4]\n",
    "y = df.iloc[:,-1]"
   ]
  },
  {
   "cell_type": "code",
   "execution_count": 6,
   "id": "2cc44013",
   "metadata": {},
   "outputs": [],
   "source": [
    "class_label = df['class label'].unique()\n",
    "setosa = df[df['class label'] == class_label[0]]\n",
    "versicolor = df[df['class label'] == class_label[1]]\n",
    "virginica = df[df['class label'] == class_label[2]]"
   ]
  },
  {
   "cell_type": "code",
   "execution_count": 7,
   "id": "d72c31ef",
   "metadata": {
    "scrolled": true
   },
   "outputs": [
    {
     "data": {
      "text/html": [
       "<div>\n",
       "<style scoped>\n",
       "    .dataframe tbody tr th:only-of-type {\n",
       "        vertical-align: middle;\n",
       "    }\n",
       "\n",
       "    .dataframe tbody tr th {\n",
       "        vertical-align: top;\n",
       "    }\n",
       "\n",
       "    .dataframe thead th {\n",
       "        text-align: right;\n",
       "    }\n",
       "</style>\n",
       "<table border=\"1\" class=\"dataframe\">\n",
       "  <thead>\n",
       "    <tr style=\"text-align: right;\">\n",
       "      <th></th>\n",
       "      <th>sepal length in cm</th>\n",
       "      <th>sepal width in cm</th>\n",
       "      <th>petal length in cm</th>\n",
       "      <th>petal width in cm</th>\n",
       "      <th>class label</th>\n",
       "    </tr>\n",
       "  </thead>\n",
       "  <tbody>\n",
       "    <tr>\n",
       "      <th>145</th>\n",
       "      <td>6.7</td>\n",
       "      <td>3.0</td>\n",
       "      <td>5.2</td>\n",
       "      <td>2.3</td>\n",
       "      <td>Iris-virginica</td>\n",
       "    </tr>\n",
       "    <tr>\n",
       "      <th>146</th>\n",
       "      <td>6.3</td>\n",
       "      <td>2.5</td>\n",
       "      <td>5.0</td>\n",
       "      <td>1.9</td>\n",
       "      <td>Iris-virginica</td>\n",
       "    </tr>\n",
       "    <tr>\n",
       "      <th>147</th>\n",
       "      <td>6.5</td>\n",
       "      <td>3.0</td>\n",
       "      <td>5.2</td>\n",
       "      <td>2.0</td>\n",
       "      <td>Iris-virginica</td>\n",
       "    </tr>\n",
       "    <tr>\n",
       "      <th>148</th>\n",
       "      <td>6.2</td>\n",
       "      <td>3.4</td>\n",
       "      <td>5.4</td>\n",
       "      <td>2.3</td>\n",
       "      <td>Iris-virginica</td>\n",
       "    </tr>\n",
       "    <tr>\n",
       "      <th>149</th>\n",
       "      <td>5.9</td>\n",
       "      <td>3.0</td>\n",
       "      <td>5.1</td>\n",
       "      <td>1.8</td>\n",
       "      <td>Iris-virginica</td>\n",
       "    </tr>\n",
       "  </tbody>\n",
       "</table>\n",
       "</div>"
      ],
      "text/plain": [
       "     sepal length in cm  sepal width in cm  petal length in cm  \\\n",
       "145                 6.7                3.0                 5.2   \n",
       "146                 6.3                2.5                 5.0   \n",
       "147                 6.5                3.0                 5.2   \n",
       "148                 6.2                3.4                 5.4   \n",
       "149                 5.9                3.0                 5.1   \n",
       "\n",
       "     petal width in cm     class label  \n",
       "145                2.3  Iris-virginica  \n",
       "146                1.9  Iris-virginica  \n",
       "147                2.0  Iris-virginica  \n",
       "148                2.3  Iris-virginica  \n",
       "149                1.8  Iris-virginica  "
      ]
     },
     "execution_count": 7,
     "metadata": {},
     "output_type": "execute_result"
    }
   ],
   "source": [
    "df.tail()"
   ]
  },
  {
   "cell_type": "code",
   "execution_count": 8,
   "id": "54ec5bcc",
   "metadata": {},
   "outputs": [],
   "source": [
    "frame12 =  [setosa,versicolor]\n",
    "frame13 = [setosa,virginica]\n",
    "frame14 = [versicolor,virginica]\n",
    "\n",
    "df_sVer = pd.concat(frame12)\n",
    "df_sVir = pd.concat(frame13)\n",
    "df_verVir = pd.concat(frame14)"
   ]
  },
  {
   "cell_type": "code",
   "execution_count": 9,
   "id": "bcffcbfa",
   "metadata": {},
   "outputs": [],
   "source": [
    "X_12 = df_sVer.iloc[:, 0:4].values\n",
    "y_12 = df_sVer.iloc[:, -1].values\n",
    "\n",
    "X_12_train, X_12_test, y_12_train, y_12_test = train_test_split(X_12, y_12, test_size = 0.2, random_state = 42)"
   ]
  },
  {
   "cell_type": "code",
   "execution_count": 10,
   "id": "185fbc7e",
   "metadata": {},
   "outputs": [],
   "source": [
    "sc = StandardScaler()\n",
    "X_12_train = sc.fit_transform(X_12_train)\n",
    "X_12_test = sc.transform(X_12_test)"
   ]
  },
  {
   "cell_type": "markdown",
   "id": "eb446d59",
   "metadata": {},
   "source": [
    "#### LDA for classes Setosa and Versicolor"
   ]
  },
  {
   "cell_type": "code",
   "execution_count": 11,
   "id": "160ae50a",
   "metadata": {},
   "outputs": [],
   "source": [
    "lda = LDA()\n",
    "X_12_train = lda.fit_transform(X_12_train, y_12_train)\n",
    "X_12_test = lda.transform(X_12_test)"
   ]
  },
  {
   "cell_type": "markdown",
   "id": "af57dda5",
   "metadata": {},
   "source": [
    "#### Logistic Regression for Setosa and Versicolor"
   ]
  },
  {
   "cell_type": "code",
   "execution_count": 12,
   "id": "f146081b",
   "metadata": {},
   "outputs": [
    {
     "data": {
      "text/plain": [
       "LogisticRegression(random_state=42)"
      ]
     },
     "execution_count": 12,
     "metadata": {},
     "output_type": "execute_result"
    }
   ],
   "source": [
    "classifier = LogisticRegression(random_state = 42)\n",
    "classifier.fit(X_12_train, y_12_train)"
   ]
  },
  {
   "cell_type": "code",
   "execution_count": 13,
   "id": "21867d21",
   "metadata": {},
   "outputs": [
    {
     "name": "stdout",
     "output_type": "stream",
     "text": [
      "[[12  0]\n",
      " [ 0  8]]\n",
      "Accuracy : 1.0\n"
     ]
    }
   ],
   "source": [
    "y_12_pred = classifier.predict(X_12_test)\n",
    "matrix = confusion_matrix(y_12_test, y_12_pred)\n",
    "print(matrix)\n",
    "print('Accuracy : ' + str(accuracy_score(y_12_test, y_12_pred)))"
   ]
  },
  {
   "cell_type": "code",
   "execution_count": 14,
   "id": "6e9b73b6",
   "metadata": {},
   "outputs": [],
   "source": [
    "X_13 = df_sVir.iloc[:, 0:4].values\n",
    "y_13 = df_sVir.iloc[:, -1].values\n",
    "\n",
    "X_13_train, X_13_test, y_13_train, y_13_test = train_test_split(X_13, y_13, test_size = 0.2, random_state = 42)\n",
    "\n",
    "X_13_train = sc.fit_transform(X_13_train)\n",
    "X_13_test = sc.transform(X_13_test)"
   ]
  },
  {
   "cell_type": "code",
   "execution_count": 15,
   "id": "7005cac3",
   "metadata": {},
   "outputs": [],
   "source": [
    "X_13_train = lda.fit_transform(X_13_train, y_13_train)\n",
    "X_13_test = lda.transform(X_13_test)"
   ]
  },
  {
   "cell_type": "code",
   "execution_count": 16,
   "id": "ba3c8332",
   "metadata": {
    "scrolled": true
   },
   "outputs": [
    {
     "name": "stdout",
     "output_type": "stream",
     "text": [
      "[[12  0]\n",
      " [ 0  8]]\n",
      "Accuracy : 1.0\n"
     ]
    }
   ],
   "source": [
    "classifier = LogisticRegression(random_state = 42)\n",
    "classifier.fit(X_13_train, y_13_train)\n",
    "\n",
    "y_13_pred = classifier.predict(X_13_test)\n",
    "matrix = confusion_matrix(y_13_test, y_13_pred)\n",
    "print(matrix)\n",
    "print('Accuracy : ' + str(accuracy_score(y_13_test, y_13_pred)))"
   ]
  },
  {
   "cell_type": "markdown",
   "id": "a59b0d05",
   "metadata": {},
   "source": [
    "#### Splitting the train and test data"
   ]
  },
  {
   "cell_type": "code",
   "execution_count": 17,
   "id": "c210ae99",
   "metadata": {},
   "outputs": [],
   "source": [
    "X_23 = df_verVir.iloc[:, 0:4].values\n",
    "y_23 = df_verVir.iloc[:, -1].values\n",
    "\n",
    "X_23_train, X_23_test, y_23_train, y_23_test = train_test_split(X_23, y_23, test_size = 0.2, random_state = 42)\n",
    "\n",
    "X_23_train = sc.fit_transform(X_23_train)\n",
    "X_23_test = sc.transform(X_23_test)"
   ]
  },
  {
   "cell_type": "markdown",
   "id": "fecf8614",
   "metadata": {},
   "source": [
    "#### LDA for classes Versicolor and Virginica"
   ]
  },
  {
   "cell_type": "code",
   "execution_count": 18,
   "id": "6cd6a8ca",
   "metadata": {},
   "outputs": [],
   "source": [
    "X_23_train = lda.fit_transform(X_23_train, y_23_train)\n",
    "X_23_test = lda.transform(X_23_test)"
   ]
  },
  {
   "cell_type": "markdown",
   "id": "30470f73",
   "metadata": {},
   "source": [
    "#### Logistic Regression for Versicolor and Virginica"
   ]
  },
  {
   "cell_type": "code",
   "execution_count": 19,
   "id": "527e0027",
   "metadata": {},
   "outputs": [
    {
     "name": "stdout",
     "output_type": "stream",
     "text": [
      "[[9 3]\n",
      " [1 7]]\n",
      "Accuracy : 0.8\n"
     ]
    }
   ],
   "source": [
    "classifier = LogisticRegression(random_state = 42)\n",
    "classifier.fit(X_23_train, y_23_train)\n",
    "\n",
    "y_23_pred = classifier.predict(X_23_test)\n",
    "matrix = confusion_matrix(y_23_test, y_23_pred)\n",
    "print(matrix)\n",
    "print('Accuracy : ' + str(accuracy_score(y_23_test, y_23_pred)))"
   ]
  },
  {
   "cell_type": "markdown",
   "id": "4c24cb74",
   "metadata": {},
   "source": [
    "# Question 2"
   ]
  },
  {
   "cell_type": "markdown",
   "id": "ea970c9e",
   "metadata": {},
   "source": [
    "#### Function to initialize the weights and bias"
   ]
  },
  {
   "cell_type": "code",
   "execution_count": 20,
   "id": "199ee70c",
   "metadata": {},
   "outputs": [],
   "source": [
    "def initialize(m):\n",
    "    a = np.zeros((m,1))\n",
    "    b = 0\n",
    "    return a , b"
   ]
  },
  {
   "cell_type": "markdown",
   "id": "8dd77e02",
   "metadata": {},
   "source": [
    "#### Calculating sigmoid of x    \n"
   ]
  },
  {
   "cell_type": "code",
   "execution_count": 21,
   "id": "99418629",
   "metadata": {},
   "outputs": [],
   "source": [
    "def sigmoid(X):\n",
    "    return 1/(1 + np.exp(- X))  "
   ]
  },
  {
   "cell_type": "markdown",
   "id": "1845916d",
   "metadata": {},
   "source": [
    "#### Forward and back propogation# "
   ]
  },
  {
   "cell_type": "code",
   "execution_count": 22,
   "id": "17bbff0e",
   "metadata": {},
   "outputs": [],
   "source": [
    "def propogate(X, Y, w, b):\n",
    "    m = X.shape[1] \n",
    "    #calculating the cost\n",
    "    Z = np.dot(w.T, X) + b;    \n",
    "    A = sigmoid(Z)\n",
    "    cost= -(1/m) * np.sum(Y * np.log(A) + (1-Y) * np.log(1-A))\n",
    "    \n",
    "    #calculating the gradients\n",
    "    dw = (1/m)* np.dot(X, (A-Y).T)\n",
    "    db = (1/m)* np.sum(A-Y)\n",
    "    \n",
    "    grads= {\"dw\" : dw, \"db\" : db}\n",
    "    \n",
    "    return grads, cost"
   ]
  },
  {
   "cell_type": "markdown",
   "id": "b607109a",
   "metadata": {},
   "source": [
    "#### Function for performing Grdient Descent"
   ]
  },
  {
   "cell_type": "code",
   "execution_count": 23,
   "id": "167214d3",
   "metadata": {},
   "outputs": [],
   "source": [
    "def optimize(X, Y, w, b, num_of_iterations, alpha):\n",
    "    \n",
    "    costs=[] \n",
    "    \n",
    "    for i in range(num_of_iterations):\n",
    " \n",
    "        grads, cost = propogate(X, Y, w, b)\n",
    "        \n",
    "        dw = grads[\"dw\"]\n",
    "        db = grads[\"db\"]\n",
    "        \n",
    "        w = w - alpha * dw\n",
    "        b = b - alpha * db\n",
    "        \n",
    "            \n",
    "    parameters = {\"w\":w, \"b\":b}\n",
    "    grads = {\"dw\":dw, \"db\":db}\n",
    "    \n",
    "    \n",
    "    return parameters, grads, costs"
   ]
  },
  {
   "cell_type": "markdown",
   "id": "e691f708",
   "metadata": {},
   "source": [
    "#### Predictions on the data set"
   ]
  },
  {
   "cell_type": "code",
   "execution_count": 24,
   "id": "405a71c2",
   "metadata": {},
   "outputs": [],
   "source": [
    "def predict(X, w, b):\n",
    "    \n",
    "    m = X.shape[1] #Number of training examples\n",
    "    \n",
    "    y_prediction =  np.zeros((1,m))\n",
    "    \n",
    "    w = w.reshape(X.shape[0], 1)\n",
    "    \n",
    "    S=sigmoid(np.dot(w.T, X)+b)\n",
    "    \n",
    "    \n",
    "    for i in range(S.shape[1]):\n",
    "        \n",
    "        if(S[0,i]<0.5):\n",
    "            y_prediction[0,i]=0\n",
    "        else:\n",
    "            y_prediction[0,i]=1\n",
    "            \n",
    "    \n",
    "    return y_prediction"
   ]
  },
  {
   "cell_type": "markdown",
   "id": "57076225",
   "metadata": {},
   "source": [
    "#### Function for calculating the Logistic Regression Model"
   ]
  },
  {
   "cell_type": "code",
   "execution_count": 25,
   "id": "23957aaa",
   "metadata": {},
   "outputs": [],
   "source": [
    "def model(Xtrain, Ytrain, num_of_iterations, alpha):\n",
    "    \n",
    "    dim = Xtrain.shape[0] #Number of features\n",
    "    \n",
    "    w,b = initialize(dim)\n",
    "    \n",
    "    parameters, grads, costs = optimize(Xtrain, Ytrain, w, b, num_of_iterations, alpha) \n",
    "    \n",
    "    w = parameters[\"w\"]\n",
    "    b = parameters[\"b\"]\n",
    "        \n",
    "    \n",
    "    d={\"w\":w, \"b\":b, \"costs\": costs}\n",
    "    \n",
    "    return d"
   ]
  },
  {
   "cell_type": "code",
   "execution_count": 26,
   "id": "f8043599",
   "metadata": {},
   "outputs": [],
   "source": [
    "def init():\n",
    "    \n",
    "    feature_names = {i:label for i,label in zip(range(10),\n",
    "                  ('Sample code number','Clump Thickness','Uniformity of Cell Size','Uniformity of Cell Shape','Marginal Adhesion',\n",
    "                  'Single Epithelial Cell Size','Bare Nuclei','Bland Chromatin','Normal Nucleoli','Mitoses',\n",
    "                  'Class:'))}\n",
    "    \n",
    "    \n",
    "    df = pd.read_csv('breast-cancer-wisconsin.data',header=None,sep=',',na_values=['?','na','NA','NAN','nan','NaN'])\n",
    "    \n",
    "    df.columns = [l for i,l in sorted(feature_names.items())] + ['class label']\n",
    "    \n",
    "    df['class label'] = df['class label'].map({2:0,4:1})  \n",
    "    df = df.dropna()\n",
    "    df = df.reset_index(drop=True)\n",
    "\n",
    "    xi = df.drop(['class label'], axis = 1)\n",
    "    y = df['class label'].values\n",
    "    \n",
    "    #splitting Train and Test data\n",
    "    X = (xi - np.min(xi))/(np.max(xi) - np.min(xi)).values\n",
    "    train_x, test_x, train_y, test_y = train_test_split(X, y, test_size = 0.20, random_state = 42)\n",
    "    \n",
    "    #putting Traing and Test Data to numpy array\n",
    "    train_x=np.asarray(train_x)\n",
    "    train_y=np.asarray(train_y)\n",
    "    test_x=np.asarray(test_x)\n",
    "    test_y=np.asarray(test_y)\n",
    "    \n",
    "    #model function is used for a Logistic Regression Model on Training Data\n",
    "    d= model(train_x.T, train_y.T, num_of_iterations=10, alpha=0.000001)\n",
    "    \n",
    "    costs=d[\"costs\"]\n",
    "    w=d[\"w\"]\n",
    "    b=d[\"b\"]\n",
    "        \n",
    "    \n",
    "    #the accuracy on Training and Test Data\n",
    "    Y_prediction_train = predict(train_x.T, w, b)  \n",
    "    Y_prediction_test = predict(test_x.T, w, b)\n",
    "   \n",
    "    print(\"\\nAccuracy: {} %\".format(100-np.mean(np.abs(Y_prediction_test - test_y.T)) * 100))"
   ]
  },
  {
   "cell_type": "code",
   "execution_count": 27,
   "id": "56c14f3e",
   "metadata": {},
   "outputs": [
    {
     "name": "stdout",
     "output_type": "stream",
     "text": [
      "\n",
      "Accuracy: 94.8905109489051 %\n"
     ]
    }
   ],
   "source": [
    "init()\n"
   ]
  }
 ],
 "metadata": {
  "kernelspec": {
   "display_name": "Python 3",
   "language": "python",
   "name": "python3"
  },
  "language_info": {
   "codemirror_mode": {
    "name": "ipython",
    "version": 3
   },
   "file_extension": ".py",
   "mimetype": "text/x-python",
   "name": "python",
   "nbconvert_exporter": "python",
   "pygments_lexer": "ipython3",
   "version": "3.8.8"
  }
 },
 "nbformat": 4,
 "nbformat_minor": 5
}
